{
 "cells": [
  {
   "cell_type": "code",
   "execution_count": 1,
   "id": "7a324ba8-e036-4f14-a51b-82eb61d57719",
   "metadata": {},
   "outputs": [],
   "source": [
    "import pandas as pd\n",
    "import matplotlib.pyplot as plt\n",
    "import seaborn as sns\n",
    "from sklearn.impute import SimpleImputer"
   ]
  },
  {
   "cell_type": "code",
   "execution_count": 2,
   "id": "70d6bd56-0ea6-4264-83e9-b3265614f5d5",
   "metadata": {},
   "outputs": [],
   "source": [
    "df = pd.read_csv(r\"C:\\Users\\HP\\Downloads\\bi.csv\", encoding=\"latin1\")"
   ]
  },
  {
   "cell_type": "markdown",
   "id": "a12247e1-9884-4a3b-9d62-154c5dea3cdc",
   "metadata": {},
   "source": [
    "# Shape of data"
   ]
  },
  {
   "cell_type": "code",
   "execution_count": 3,
   "id": "a07d3d2b-ce41-4b95-bdfd-fc01f676df53",
   "metadata": {},
   "outputs": [
    {
     "name": "stdout",
     "output_type": "stream",
     "text": [
      "<class 'pandas.core.frame.DataFrame'>\n",
      "RangeIndex: 77 entries, 0 to 76\n",
      "Data columns (total 11 columns):\n",
      " #   Column         Non-Null Count  Dtype  \n",
      "---  ------         --------------  -----  \n",
      " 0   fNAME          77 non-null     object \n",
      " 1   lNAME          77 non-null     object \n",
      " 2   Age            77 non-null     int64  \n",
      " 3   gender         77 non-null     object \n",
      " 4   country        77 non-null     object \n",
      " 5   residence      77 non-null     object \n",
      " 6   entryEXAM      77 non-null     int64  \n",
      " 7   prevEducation  77 non-null     object \n",
      " 8   studyHOURS     77 non-null     int64  \n",
      " 9   Python         75 non-null     float64\n",
      " 10  DB             77 non-null     int64  \n",
      "dtypes: float64(1), int64(4), object(6)\n",
      "memory usage: 6.7+ KB\n"
     ]
    }
   ],
   "source": [
    "df.info()"
   ]
  },
  {
   "cell_type": "markdown",
   "id": "ba62c421-9912-4b49-b4f9-3b876e3d7a1f",
   "metadata": {},
   "source": [
    "#  Data type of each column"
   ]
  },
  {
   "cell_type": "code",
   "execution_count": 4,
   "id": "1390c626-ca01-475d-9ab8-27a9742a714e",
   "metadata": {},
   "outputs": [
    {
     "data": {
      "text/plain": [
       "(77, 11)"
      ]
     },
     "execution_count": 4,
     "metadata": {},
     "output_type": "execute_result"
    }
   ],
   "source": [
    "df.shape"
   ]
  },
  {
   "cell_type": "markdown",
   "id": "9b83d4b2-a86c-4f47-b20c-6f6753745387",
   "metadata": {},
   "source": [
    "# Sample from data"
   ]
  },
  {
   "cell_type": "code",
   "execution_count": 5,
   "id": "e26f2de3-45e3-4ea4-bca6-98844b777958",
   "metadata": {},
   "outputs": [
    {
     "data": {
      "text/html": [
       "<div>\n",
       "<style scoped>\n",
       "    .dataframe tbody tr th:only-of-type {\n",
       "        vertical-align: middle;\n",
       "    }\n",
       "\n",
       "    .dataframe tbody tr th {\n",
       "        vertical-align: top;\n",
       "    }\n",
       "\n",
       "    .dataframe thead th {\n",
       "        text-align: right;\n",
       "    }\n",
       "</style>\n",
       "<table border=\"1\" class=\"dataframe\">\n",
       "  <thead>\n",
       "    <tr style=\"text-align: right;\">\n",
       "      <th></th>\n",
       "      <th>fNAME</th>\n",
       "      <th>lNAME</th>\n",
       "      <th>Age</th>\n",
       "      <th>gender</th>\n",
       "      <th>country</th>\n",
       "      <th>residence</th>\n",
       "      <th>entryEXAM</th>\n",
       "      <th>prevEducation</th>\n",
       "      <th>studyHOURS</th>\n",
       "      <th>Python</th>\n",
       "      <th>DB</th>\n",
       "    </tr>\n",
       "  </thead>\n",
       "  <tbody>\n",
       "    <tr>\n",
       "      <th>0</th>\n",
       "      <td>Christina</td>\n",
       "      <td>Binger</td>\n",
       "      <td>44</td>\n",
       "      <td>Female</td>\n",
       "      <td>Norway</td>\n",
       "      <td>Private</td>\n",
       "      <td>72</td>\n",
       "      <td>Masters</td>\n",
       "      <td>158</td>\n",
       "      <td>59.0</td>\n",
       "      <td>55</td>\n",
       "    </tr>\n",
       "    <tr>\n",
       "      <th>1</th>\n",
       "      <td>Alex</td>\n",
       "      <td>Walekhwa</td>\n",
       "      <td>60</td>\n",
       "      <td>M</td>\n",
       "      <td>Kenya</td>\n",
       "      <td>Private</td>\n",
       "      <td>79</td>\n",
       "      <td>Diploma</td>\n",
       "      <td>150</td>\n",
       "      <td>60.0</td>\n",
       "      <td>75</td>\n",
       "    </tr>\n",
       "    <tr>\n",
       "      <th>2</th>\n",
       "      <td>Philip</td>\n",
       "      <td>Leo</td>\n",
       "      <td>25</td>\n",
       "      <td>Male</td>\n",
       "      <td>Uganda</td>\n",
       "      <td>Sognsvann</td>\n",
       "      <td>55</td>\n",
       "      <td>HighSchool</td>\n",
       "      <td>130</td>\n",
       "      <td>74.0</td>\n",
       "      <td>50</td>\n",
       "    </tr>\n",
       "    <tr>\n",
       "      <th>3</th>\n",
       "      <td>Shoni</td>\n",
       "      <td>Hlongwane</td>\n",
       "      <td>22</td>\n",
       "      <td>F</td>\n",
       "      <td>Rsa</td>\n",
       "      <td>Sognsvann</td>\n",
       "      <td>40</td>\n",
       "      <td>High School</td>\n",
       "      <td>120</td>\n",
       "      <td>NaN</td>\n",
       "      <td>44</td>\n",
       "    </tr>\n",
       "    <tr>\n",
       "      <th>4</th>\n",
       "      <td>Maria</td>\n",
       "      <td>Kedibone</td>\n",
       "      <td>23</td>\n",
       "      <td>Female</td>\n",
       "      <td>South Africa</td>\n",
       "      <td>Sognsvann</td>\n",
       "      <td>65</td>\n",
       "      <td>High School</td>\n",
       "      <td>122</td>\n",
       "      <td>91.0</td>\n",
       "      <td>80</td>\n",
       "    </tr>\n",
       "  </tbody>\n",
       "</table>\n",
       "</div>"
      ],
      "text/plain": [
       "       fNAME      lNAME  Age  gender       country  residence  entryEXAM  \\\n",
       "0  Christina     Binger   44  Female        Norway    Private         72   \n",
       "1       Alex   Walekhwa   60       M         Kenya    Private         79   \n",
       "2     Philip        Leo   25    Male        Uganda  Sognsvann         55   \n",
       "3      Shoni  Hlongwane   22       F           Rsa  Sognsvann         40   \n",
       "4      Maria   Kedibone   23  Female  South Africa  Sognsvann         65   \n",
       "\n",
       "  prevEducation  studyHOURS  Python  DB  \n",
       "0       Masters         158    59.0  55  \n",
       "1       Diploma         150    60.0  75  \n",
       "2    HighSchool         130    74.0  50  \n",
       "3   High School         120     NaN  44  \n",
       "4   High School         122    91.0  80  "
      ]
     },
     "execution_count": 5,
     "metadata": {},
     "output_type": "execute_result"
    }
   ],
   "source": [
    "df.head()"
   ]
  },
  {
   "cell_type": "markdown",
   "id": "ad88cafe-fef4-4319-89a4-8c9d93a77ecf",
   "metadata": {},
   "source": [
    "# Detect inconsistent categories\r\n"
   ]
  },
  {
   "cell_type": "code",
   "execution_count": 6,
   "id": "1489a705-839c-4895-8229-c42c8e611843",
   "metadata": {},
   "outputs": [
    {
     "name": "stdout",
     "output_type": "stream",
     "text": [
      "Unique values in 'country':\n",
      "['Norway' 'Kenya' 'Uganda' 'Rsa' 'South Africa' 'Norge' 'norway' 'Denmark'\n",
      " 'Netherlands' 'Italy' 'Spain' 'UK' 'Somali' 'Nigeria' 'Germany' 'France']\n",
      "----------------------------------------\n",
      "Unique values in 'gender':\n",
      "['Female' 'M' 'Male' 'F' 'female' 'male']\n",
      "----------------------------------------\n",
      "Unique values in 'prevEducation':\n",
      "['Masters' 'Diploma' 'HighSchool' 'High School' 'Bachelors' 'Barrrchelors'\n",
      " 'diploma' 'DIPLOMA' 'Diplomaaa' 'Doctorate']\n",
      "----------------------------------------\n"
     ]
    }
   ],
   "source": [
    "cols = [\"country\", \"gender\", \"prevEducation\"]\n",
    "\n",
    "# Loop over each column and print unique categories\n",
    "for col in cols:\n",
    "    print(f\"Unique values in '{col}':\")\n",
    "    print(df[col].unique())\n",
    "    print(\"-\" * 40)"
   ]
  },
  {
   "cell_type": "code",
   "execution_count": 7,
   "id": "d272868c-1e7a-4847-9ce8-87e92a944be7",
   "metadata": {},
   "outputs": [],
   "source": [
    "df[\"gender\"] = df[\"gender\"].replace({\n",
    "    \"M\": \"Male\",\n",
    "    \"male\": \"Male\",\n",
    "    \"F\":\"Female\",\n",
    "    \"female\":\"Female\"\n",
    "})\n"
   ]
  },
  {
   "cell_type": "code",
   "execution_count": 8,
   "id": "fe4cce07-fa88-4e4b-816e-5995c34b8376",
   "metadata": {},
   "outputs": [],
   "source": [
    "df[\"country\"] = df[\"country\"].replace({\n",
    "    \"norway\": \"Norway\",\n",
    "    \"Norge\": \"Norway\",\n",
    "})\n"
   ]
  },
  {
   "cell_type": "code",
   "execution_count": 9,
   "id": "5f707f9a-f190-4fb5-b8c2-26d0242caa61",
   "metadata": {},
   "outputs": [],
   "source": [
    "df[\"prevEducation\"] = (\n",
    "    df[\"prevEducation\"]\n",
    "    .str.strip()  \n",
    "    .str.lower()  \n",
    "    .replace({\n",
    "        r\"^dip.*\": \"Diploma\",        \n",
    "        r\"^high\\s*school$\": \"High School\",  \n",
    "        r\"^ba.*\": \"Bachelors\",    \n",
    "        r\"^masters?$\": \"Masters\",     \n",
    "        r\"^phd$|^doctorate$\": \"Doctorate\"  \n",
    "    }, regex=True)\n",
    ")\n"
   ]
  },
  {
   "cell_type": "code",
   "execution_count": 10,
   "id": "a159371c-df49-4d2b-9f99-09c589a7c93f",
   "metadata": {},
   "outputs": [
    {
     "name": "stdout",
     "output_type": "stream",
     "text": [
      "Unique values in 'country':\n",
      "['Norway' 'Kenya' 'Uganda' 'Rsa' 'South Africa' 'Denmark' 'Netherlands'\n",
      " 'Italy' 'Spain' 'UK' 'Somali' 'Nigeria' 'Germany' 'France']\n",
      "----------------------------------------\n",
      "Unique values in 'gender':\n",
      "['Female' 'Male']\n",
      "----------------------------------------\n",
      "Unique values in 'prevEducation':\n",
      "['Masters' 'Diploma' 'High School' 'Bachelors' 'Doctorate']\n",
      "----------------------------------------\n"
     ]
    }
   ],
   "source": [
    "cols = [\"country\", \"gender\", \"prevEducation\"]\n",
    "\n",
    "# Loop over each column and print unique categories\n",
    "for col in cols:\n",
    "    print(f\"Unique values in '{col}':\")\n",
    "    print(df[col].unique())\n",
    "    print(\"-\" * 40)"
   ]
  },
  {
   "cell_type": "markdown",
   "id": "dee04c43-56db-420c-9928-51d5cad78a92",
   "metadata": {},
   "source": [
    "# Deal with Duplicates"
   ]
  },
  {
   "cell_type": "code",
   "execution_count": 11,
   "id": "8e5be854-22d7-4de7-a8ee-8aad73f9ecd8",
   "metadata": {},
   "outputs": [
    {
     "data": {
      "text/plain": [
       "0"
      ]
     },
     "execution_count": 11,
     "metadata": {},
     "output_type": "execute_result"
    }
   ],
   "source": [
    "df.duplicated().sum()"
   ]
  },
  {
   "cell_type": "markdown",
   "id": "1eb5bb75-06dc-4129-94ca-fa4781280740",
   "metadata": {},
   "source": [
    "# Deal with Nulls\n",
    "### Check columns that contain nulls and see if normally distributed or not , if not fill nulls with median as done in Python column"
   ]
  },
  {
   "cell_type": "code",
   "execution_count": 12,
   "id": "4046cb85-710f-40bb-acbe-5e0b20f4ee90",
   "metadata": {},
   "outputs": [
    {
     "data": {
      "text/plain": [
       "fNAME            0\n",
       "lNAME            0\n",
       "Age              0\n",
       "gender           0\n",
       "country          0\n",
       "residence        0\n",
       "entryEXAM        0\n",
       "prevEducation    0\n",
       "studyHOURS       0\n",
       "Python           2\n",
       "DB               0\n",
       "dtype: int64"
      ]
     },
     "execution_count": 12,
     "metadata": {},
     "output_type": "execute_result"
    }
   ],
   "source": [
    "df.isnull().sum()\n"
   ]
  },
  {
   "cell_type": "code",
   "execution_count": 13,
   "id": "cd407df7-8078-45af-9555-bb46b7c9fb4f",
   "metadata": {},
   "outputs": [
    {
     "data": {
      "text/html": [
       "<div>\n",
       "<style scoped>\n",
       "    .dataframe tbody tr th:only-of-type {\n",
       "        vertical-align: middle;\n",
       "    }\n",
       "\n",
       "    .dataframe tbody tr th {\n",
       "        vertical-align: top;\n",
       "    }\n",
       "\n",
       "    .dataframe thead th {\n",
       "        text-align: right;\n",
       "    }\n",
       "</style>\n",
       "<table border=\"1\" class=\"dataframe\">\n",
       "  <thead>\n",
       "    <tr style=\"text-align: right;\">\n",
       "      <th></th>\n",
       "      <th>Age</th>\n",
       "      <th>entryEXAM</th>\n",
       "      <th>studyHOURS</th>\n",
       "      <th>Python</th>\n",
       "      <th>DB</th>\n",
       "    </tr>\n",
       "  </thead>\n",
       "  <tbody>\n",
       "    <tr>\n",
       "      <th>count</th>\n",
       "      <td>77.000000</td>\n",
       "      <td>77.000000</td>\n",
       "      <td>77.000000</td>\n",
       "      <td>75.000000</td>\n",
       "      <td>77.000000</td>\n",
       "    </tr>\n",
       "    <tr>\n",
       "      <th>mean</th>\n",
       "      <td>35.207792</td>\n",
       "      <td>76.753247</td>\n",
       "      <td>149.714286</td>\n",
       "      <td>75.853333</td>\n",
       "      <td>69.467532</td>\n",
       "    </tr>\n",
       "    <tr>\n",
       "      <th>std</th>\n",
       "      <td>10.341966</td>\n",
       "      <td>16.475784</td>\n",
       "      <td>12.743272</td>\n",
       "      <td>15.410328</td>\n",
       "      <td>17.033701</td>\n",
       "    </tr>\n",
       "    <tr>\n",
       "      <th>min</th>\n",
       "      <td>21.000000</td>\n",
       "      <td>28.000000</td>\n",
       "      <td>114.000000</td>\n",
       "      <td>15.000000</td>\n",
       "      <td>30.000000</td>\n",
       "    </tr>\n",
       "    <tr>\n",
       "      <th>25%</th>\n",
       "      <td>27.000000</td>\n",
       "      <td>69.000000</td>\n",
       "      <td>144.000000</td>\n",
       "      <td>71.000000</td>\n",
       "      <td>56.000000</td>\n",
       "    </tr>\n",
       "    <tr>\n",
       "      <th>50%</th>\n",
       "      <td>33.000000</td>\n",
       "      <td>80.000000</td>\n",
       "      <td>156.000000</td>\n",
       "      <td>81.000000</td>\n",
       "      <td>71.000000</td>\n",
       "    </tr>\n",
       "    <tr>\n",
       "      <th>75%</th>\n",
       "      <td>42.000000</td>\n",
       "      <td>90.000000</td>\n",
       "      <td>158.000000</td>\n",
       "      <td>85.000000</td>\n",
       "      <td>83.000000</td>\n",
       "    </tr>\n",
       "    <tr>\n",
       "      <th>max</th>\n",
       "      <td>71.000000</td>\n",
       "      <td>98.000000</td>\n",
       "      <td>160.000000</td>\n",
       "      <td>91.000000</td>\n",
       "      <td>100.000000</td>\n",
       "    </tr>\n",
       "  </tbody>\n",
       "</table>\n",
       "</div>"
      ],
      "text/plain": [
       "             Age  entryEXAM  studyHOURS     Python          DB\n",
       "count  77.000000  77.000000   77.000000  75.000000   77.000000\n",
       "mean   35.207792  76.753247  149.714286  75.853333   69.467532\n",
       "std    10.341966  16.475784   12.743272  15.410328   17.033701\n",
       "min    21.000000  28.000000  114.000000  15.000000   30.000000\n",
       "25%    27.000000  69.000000  144.000000  71.000000   56.000000\n",
       "50%    33.000000  80.000000  156.000000  81.000000   71.000000\n",
       "75%    42.000000  90.000000  158.000000  85.000000   83.000000\n",
       "max    71.000000  98.000000  160.000000  91.000000  100.000000"
      ]
     },
     "execution_count": 13,
     "metadata": {},
     "output_type": "execute_result"
    }
   ],
   "source": [
    "df.describe()"
   ]
  },
  {
   "cell_type": "code",
   "execution_count": 14,
   "id": "9edfd73d-ebfe-46c6-9310-5ebb1254e837",
   "metadata": {},
   "outputs": [
    {
     "name": "stderr",
     "output_type": "stream",
     "text": [
      "C:\\Users\\HP\\anaconda3\\Lib\\site-packages\\seaborn\\_oldcore.py:1119: FutureWarning: use_inf_as_na option is deprecated and will be removed in a future version. Convert inf values to NaN before operating instead.\n",
      "  with pd.option_context('mode.use_inf_as_na', True):\n"
     ]
    },
    {
     "data": {
      "image/png": "[encoded data removed]",
      "text/plain": [
       "<Figure size 800x500 with 1 Axes>"
      ]
     },
     "metadata": {},
     "output_type": "display_data"
    }
   ],
   "source": [
    "## check if column is normally distributed or not\n",
    "plt.figure(figsize=(8,5))\n",
    "sns.histplot(df[\"Python\"].dropna(), kde=True, bins=30)  \n",
    "plt.title(f\"Distribution of Python\")\n",
    "plt.xlabel(\"Python\")\n",
    "plt.ylabel(\"Frequency\")\n",
    "plt.show()"
   ]
  },
  {
   "cell_type": "code",
   "execution_count": 15,
   "id": "84d2393e-f408-48d5-9b55-95cfa69b57fd",
   "metadata": {},
   "outputs": [],
   "source": [
    "## fill with median because column is not normally distributed\n",
    "imputer = SimpleImputer(strategy=\"median\")\n",
    "df[[\"Python\"]] = imputer.fit_transform(df[[\"Python\"]])"
   ]
  },
  {
   "cell_type": "code",
   "execution_count": 16,
   "id": "11e08265-95aa-4ae5-97a6-98c71fb92e0a",
   "metadata": {},
   "outputs": [
    {
     "data": {
      "text/plain": [
       "fNAME            0\n",
       "lNAME            0\n",
       "Age              0\n",
       "gender           0\n",
       "country          0\n",
       "residence        0\n",
       "entryEXAM        0\n",
       "prevEducation    0\n",
       "studyHOURS       0\n",
       "Python           0\n",
       "DB               0\n",
       "dtype: int64"
      ]
     },
     "execution_count": 16,
     "metadata": {},
     "output_type": "execute_result"
    }
   ],
   "source": [
    "df.isnull().sum()"
   ]
  },
  {
   "cell_type": "markdown",
   "id": "01dd422c-d309-4a90-9218-ea1f157072cd",
   "metadata": {},
   "source": [
    "# Deal with outliers\n",
    "#### Check max and min of each column with describe() and see if there is values that is not normal or wrong values apply  IQR method.All numerical columns as (python,db,entryexame,studyhours) ,its values are normal even if min in python is very low but still possible value so i prefer to keep then and not deal with outliers even if boxplot shows that some values are larger than max or smaller than min but still possible ,but keep in consideration to use models not affected by outliers as trees"
   ]
  },
  {
   "cell_type": "code",
   "execution_count": 17,
   "id": "2453bcbb-99a5-4166-8c23-46ca524b169d",
   "metadata": {},
   "outputs": [],
   "source": [
    "import numpy as np\n",
    "import pandas as pd\n",
    "\n",
    "def boxplot_stats(df):\n",
    "    rows = []\n",
    "    for col in df.select_dtypes(include=[np.number]).columns:\n",
    "        s = df[col]  \n",
    "        q1 = np.percentile(s, 25)\n",
    "        q3 = np.percentile(s, 75)\n",
    "        iqr = q3 - q1\n",
    "        lower = q1 - 1.5 * iqr\n",
    "        upper = q3 + 1.5 * iqr\n",
    "       \n",
    "        rows.append({\n",
    "            \"Column\": col,\n",
    "            \"Q1\": q1, \"Q3\": q3,\n",
    "            \"Min (whisker)\": lower, \"Max (whisker)\": upper\n",
    "            \n",
    "        })\n",
    "    return pd.DataFrame(rows)\n",
    "\n",
    "\n"
   ]
  },
  {
   "cell_type": "code",
   "execution_count": 18,
   "id": "74e92b35-a7de-443d-9eaf-1460df440fa6",
   "metadata": {},
   "outputs": [],
   "source": [
    "def visualize_box_plot(col):\n",
    "    plt.figure(figsize=(7,6))\n",
    "    sns.boxplot(y=df[col])\n",
    "    plt.title(f\"Box plot for {col} column\")\n",
    "    plt.show"
   ]
  },
  {
   "cell_type": "code",
   "execution_count": 19,
   "id": "5d17970e-5082-4c05-8342-e2b46fd3b138",
   "metadata": {},
   "outputs": [
    {
     "data": {
      "text/html": [
       "<div>\n",
       "<style scoped>\n",
       "    .dataframe tbody tr th:only-of-type {\n",
       "        vertical-align: middle;\n",
       "    }\n",
       "\n",
       "    .dataframe tbody tr th {\n",
       "        vertical-align: top;\n",
       "    }\n",
       "\n",
       "    .dataframe thead th {\n",
       "        text-align: right;\n",
       "    }\n",
       "</style>\n",
       "<table border=\"1\" class=\"dataframe\">\n",
       "  <thead>\n",
       "    <tr style=\"text-align: right;\">\n",
       "      <th></th>\n",
       "      <th>Column</th>\n",
       "      <th>Q1</th>\n",
       "      <th>Q3</th>\n",
       "      <th>Min (whisker)</th>\n",
       "      <th>Max (whisker)</th>\n",
       "    </tr>\n",
       "  </thead>\n",
       "  <tbody>\n",
       "    <tr>\n",
       "      <th>0</th>\n",
       "      <td>Age</td>\n",
       "      <td>27.0</td>\n",
       "      <td>42.0</td>\n",
       "      <td>4.5</td>\n",
       "      <td>64.5</td>\n",
       "    </tr>\n",
       "    <tr>\n",
       "      <th>1</th>\n",
       "      <td>entryEXAM</td>\n",
       "      <td>69.0</td>\n",
       "      <td>90.0</td>\n",
       "      <td>37.5</td>\n",
       "      <td>121.5</td>\n",
       "    </tr>\n",
       "    <tr>\n",
       "      <th>2</th>\n",
       "      <td>studyHOURS</td>\n",
       "      <td>144.0</td>\n",
       "      <td>158.0</td>\n",
       "      <td>123.0</td>\n",
       "      <td>179.0</td>\n",
       "    </tr>\n",
       "    <tr>\n",
       "      <th>3</th>\n",
       "      <td>Python</td>\n",
       "      <td>72.0</td>\n",
       "      <td>85.0</td>\n",
       "      <td>52.5</td>\n",
       "      <td>104.5</td>\n",
       "    </tr>\n",
       "    <tr>\n",
       "      <th>4</th>\n",
       "      <td>DB</td>\n",
       "      <td>56.0</td>\n",
       "      <td>83.0</td>\n",
       "      <td>15.5</td>\n",
       "      <td>123.5</td>\n",
       "    </tr>\n",
       "  </tbody>\n",
       "</table>\n",
       "</div>"
      ],
      "text/plain": [
       "       Column     Q1     Q3  Min (whisker)  Max (whisker)\n",
       "0         Age   27.0   42.0            4.5           64.5\n",
       "1   entryEXAM   69.0   90.0           37.5          121.5\n",
       "2  studyHOURS  144.0  158.0          123.0          179.0\n",
       "3      Python   72.0   85.0           52.5          104.5\n",
       "4          DB   56.0   83.0           15.5          123.5"
      ]
     },
     "execution_count": 19,
     "metadata": {},
     "output_type": "execute_result"
    }
   ],
   "source": [
    "dict= boxplot_stats(df)\n",
    "dict"
   ]
  },
  {
   "cell_type": "code",
   "execution_count": 20,
   "id": "5798c948-cd77-4ed7-8d5e-17b1556522c6",
   "metadata": {},
   "outputs": [
    {
     "data": {
      "image/png": "[encoded data removed]",
      "text/plain": [
       "<Figure size 700x600 with 1 Axes>"
      ]
     },
     "metadata": {},
     "output_type": "display_data"
    },
    {
     "data": {
      "image/png": "[encoded data removed]",
      "text/plain": [
       "<Figure size 700x600 with 1 Axes>"
      ]
     },
     "metadata": {},
     "output_type": "display_data"
    }
   ],
   "source": [
    "visualize_box_plot(\"Python\")\n",
    "visualize_box_plot(\"entryEXAM\")"
   ]
  },
  {
   "cell_type": "code",
   "execution_count": 21,
   "id": "274cf427-27bd-41f9-bfa0-dfcd2b2c1e27",
   "metadata": {},
   "outputs": [
    {
     "data": {
      "text/html": [
       "<div>\n",
       "<style scoped>\n",
       "    .dataframe tbody tr th:only-of-type {\n",
       "        vertical-align: middle;\n",
       "    }\n",
       "\n",
       "    .dataframe tbody tr th {\n",
       "        vertical-align: top;\n",
       "    }\n",
       "\n",
       "    .dataframe thead th {\n",
       "        text-align: right;\n",
       "    }\n",
       "</style>\n",
       "<table border=\"1\" class=\"dataframe\">\n",
       "  <thead>\n",
       "    <tr style=\"text-align: right;\">\n",
       "      <th></th>\n",
       "      <th>Age</th>\n",
       "      <th>entryEXAM</th>\n",
       "      <th>studyHOURS</th>\n",
       "      <th>Python</th>\n",
       "      <th>DB</th>\n",
       "    </tr>\n",
       "  </thead>\n",
       "  <tbody>\n",
       "    <tr>\n",
       "      <th>count</th>\n",
       "      <td>77.000000</td>\n",
       "      <td>77.000000</td>\n",
       "      <td>77.000000</td>\n",
       "      <td>77.000000</td>\n",
       "      <td>77.000000</td>\n",
       "    </tr>\n",
       "    <tr>\n",
       "      <th>mean</th>\n",
       "      <td>35.207792</td>\n",
       "      <td>76.753247</td>\n",
       "      <td>149.714286</td>\n",
       "      <td>75.987013</td>\n",
       "      <td>69.467532</td>\n",
       "    </tr>\n",
       "    <tr>\n",
       "      <th>std</th>\n",
       "      <td>10.341966</td>\n",
       "      <td>16.475784</td>\n",
       "      <td>12.743272</td>\n",
       "      <td>15.228517</td>\n",
       "      <td>17.033701</td>\n",
       "    </tr>\n",
       "    <tr>\n",
       "      <th>min</th>\n",
       "      <td>21.000000</td>\n",
       "      <td>28.000000</td>\n",
       "      <td>114.000000</td>\n",
       "      <td>15.000000</td>\n",
       "      <td>30.000000</td>\n",
       "    </tr>\n",
       "    <tr>\n",
       "      <th>25%</th>\n",
       "      <td>27.000000</td>\n",
       "      <td>69.000000</td>\n",
       "      <td>144.000000</td>\n",
       "      <td>72.000000</td>\n",
       "      <td>56.000000</td>\n",
       "    </tr>\n",
       "    <tr>\n",
       "      <th>50%</th>\n",
       "      <td>33.000000</td>\n",
       "      <td>80.000000</td>\n",
       "      <td>156.000000</td>\n",
       "      <td>81.000000</td>\n",
       "      <td>71.000000</td>\n",
       "    </tr>\n",
       "    <tr>\n",
       "      <th>75%</th>\n",
       "      <td>42.000000</td>\n",
       "      <td>90.000000</td>\n",
       "      <td>158.000000</td>\n",
       "      <td>85.000000</td>\n",
       "      <td>83.000000</td>\n",
       "    </tr>\n",
       "    <tr>\n",
       "      <th>max</th>\n",
       "      <td>71.000000</td>\n",
       "      <td>98.000000</td>\n",
       "      <td>160.000000</td>\n",
       "      <td>91.000000</td>\n",
       "      <td>100.000000</td>\n",
       "    </tr>\n",
       "  </tbody>\n",
       "</table>\n",
       "</div>"
      ],
      "text/plain": [
       "             Age  entryEXAM  studyHOURS     Python          DB\n",
       "count  77.000000  77.000000   77.000000  77.000000   77.000000\n",
       "mean   35.207792  76.753247  149.714286  75.987013   69.467532\n",
       "std    10.341966  16.475784   12.743272  15.228517   17.033701\n",
       "min    21.000000  28.000000  114.000000  15.000000   30.000000\n",
       "25%    27.000000  69.000000  144.000000  72.000000   56.000000\n",
       "50%    33.000000  80.000000  156.000000  81.000000   71.000000\n",
       "75%    42.000000  90.000000  158.000000  85.000000   83.000000\n",
       "max    71.000000  98.000000  160.000000  91.000000  100.000000"
      ]
     },
     "execution_count": 21,
     "metadata": {},
     "output_type": "execute_result"
    }
   ],
   "source": [
    "df.describe()"
   ]
  },
  {
   "cell_type": "code",
   "execution_count": 22,
   "id": "7eb22959-689b-4b12-8a02-3c11cad4f2e6",
   "metadata": {},
   "outputs": [],
   "source": [
    "df.to_csv(\"cleaned_data.csv\", index=False) "
   ]
  },
  {
   "cell_type": "code",
   "execution_count": null,
   "id": "1e4bf263-9514-4093-97b8-b4b68d281387",
   "metadata": {},
   "outputs": [],
   "source": []
  }
 ],
 "metadata": {
  "kernelspec": {
   "display_name": "Python 3 (ipykernel)",
   "language": "python",
   "name": "python3"
  },
  "language_info": {
   "codemirror_mode": {
    "name": "ipython",
    "version": 3
   },
   "file_extension": ".py",
   "mimetype": "text/x-python",
   "name": "python",
   "nbconvert_exporter": "python",
   "pygments_lexer": "ipython3",
   "version": "3.11.7"
  }
 },
 "nbformat": 4,
 "nbformat_minor": 5
}
